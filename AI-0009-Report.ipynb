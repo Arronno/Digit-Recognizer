{
 "cells": [
  {
   "cell_type": "markdown",
   "metadata": {
    "collapsed": true
   },
   "source": [
    "***\n",
    "<font size=+2>ID: **AI-0009**</font><br>\n",
    "<font size=+2>Submission Date: **16-01-2018**</font>\n",
    "***"
   ]
  },
  {
   "cell_type": "markdown",
   "metadata": {},
   "source": [
    "## Abstract:\n",
    "<font size=+0.5>**\"Digit Recognizer\"**</font><br>\n",
    "MNIST (\"Modified National Institute of Standards and Technology\") is the basic Dataset of Computer Vision. This classic Dataset of Handwritten Images has served as the basis for benchmarking Classification Algorithms. While Digit Recognition is the ultimate goal, this project consists of several segments such as Data Set Analysis, Data Preprocessing, Decision of Algorithm and Model, Decision of Hyper Parameters. CNN(Convolution Neural Network) has been the main focus throughout the development. For Generalization and Robustness  of the Model, Data Augmentation was fitted. The use of Conv2D and MaxPool2D Layers in the Convolution Network was well utilized and a sustainable Model was established. Hyper Parameter Tuning played an important role in improving the Final Score. “Style Guide for Python Code PEP8” was considered as the Coding Style. "
   ]
  },
  {
   "cell_type": "markdown",
   "metadata": {},
   "source": [
    "## Purpose of the Assignment:\n",
    "The purpose of the Assignment is to dig into Computer Vision Fundamentals including simple Neural Networks to Convolution Neural Network(CNN) and exploring the Classification Methods. The Goal in this Assignment is to take an Image of a Handwritten single Digit, and determine what that Digit is.\n",
    "***"
   ]
  },
  {
   "cell_type": "code",
   "execution_count": 1,
   "metadata": {},
   "outputs": [
    {
     "data": {
      "application/javascript": [
       "IPython.Cell.options_default.cm_config.lineNumbers = false;\n",
       "IPython.OutputArea.prototype._should_scroll = function(lines) \n",
       "{\n",
       "    return false;\n",
       "} \n",
       "// This code snippet is used to turn off auto scrolling in outputs\n",
       "// Ignore this snippet as it is not a part of the project"
      ],
      "text/plain": [
       "<IPython.core.display.Javascript object>"
      ]
     },
     "metadata": {},
     "output_type": "display_data"
    }
   ],
   "source": [
    "%%javascript\n",
    "IPython.Cell.options_default.cm_config.lineNumbers = false;\n",
    "IPython.OutputArea.prototype._should_scroll = function(lines) \n",
    "{\n",
    "    return false;\n",
    "} \n",
    "// This code snippet is used to turn off auto scrolling in outputs\n",
    "// Ignore this snippet as it is not a part of the project"
   ]
  },
  {
   "cell_type": "markdown",
   "metadata": {},
   "source": [
    "## 1. Data Set Analysis"
   ]
  },
  {
   "cell_type": "markdown",
   "metadata": {},
   "source": [
    "### 1.1 Overview"
   ]
  },
  {
   "cell_type": "code",
   "execution_count": 18,
   "metadata": {},
   "outputs": [
    {
     "name": "stdout",
     "output_type": "stream",
     "text": [
      "\n",
      "No Missing Values found in the Train Set.\n",
      "\n",
      "No Missing Values found in the Test Set.\n",
      "\n",
      "Total Data in Train Set: 42000\n",
      "\n",
      "Total Data in Test Set: 28000\n",
      "\n",
      "Feature Size: 784\n",
      "\n",
      "Image Size: 28 X 28 Pixels\n"
     ]
    }
   ],
   "source": [
    "# Digit Recognizer\n",
    "\n",
    "import pandas as pd\n",
    "import numpy as np\n",
    "import matplotlib.pyplot as plt\n",
    "import matplotlib.image as mpimg\n",
    "import seaborn as sb\n",
    "\n",
    "np.random.seed(24)\n",
    "\n",
    "# Data Import\n",
    "DRtrn = pd.read_csv('train(DR).csv')  # Train Data\n",
    "DRtst = pd.read_csv('test(DR).csv')  # Test Data\n",
    "\n",
    "# Missing Values\n",
    "\n",
    "# Train Set\n",
    "if (DRtrn.isnull().sum().sum() == 0):\n",
    "    print('\\nNo Missing Values found in the Train Set.')\n",
    "else:\n",
    "    print('\\Missing Values found in the Train Set.')\n",
    "\n",
    "# Test Set\n",
    "if (DRtst.isnull().sum().sum() == 0):\n",
    "    print('\\nNo Missing Values found in the Test Set.')\n",
    "else:\n",
    "    print('\\Missing Values found in the Test Set.')\n",
    "\n",
    "# Counts\n",
    "print('\\nTotal Data in Train Set:', len(DRtrn))\n",
    "print('\\nTotal Data in Test Set:', len(DRtst))\n",
    "print('\\nFeature Size:', len(DRtst.values[0]))\n",
    "size = int((len(DRtst.values[0])**(1/2)))\n",
    "print('\\nImage Size: %d X %d Pixels' % (size,size))"
   ]
  },
  {
   "cell_type": "markdown",
   "metadata": {},
   "source": [
    "<h2>Cell Report:</h2><br>\n",
    "**1.** No Missing Values were found.<br>\n",
    "**2.** Data Counts, Feature Size and Image Size were shown."
   ]
  },
  {
   "cell_type": "markdown",
   "metadata": {},
   "source": [
    "### 1.2 Visualization"
   ]
  },
  {
   "cell_type": "code",
   "execution_count": 19,
   "metadata": {},
   "outputs": [
    {
     "name": "stdout",
     "output_type": "stream",
     "text": [
      "\n",
      "Allocation of Digits in the Train Set:\n",
      "    Counts\n",
      "0    4132\n",
      "1    4684\n",
      "2    4177\n",
      "3    4351\n",
      "4    4072\n",
      "5    3795\n",
      "6    4137\n",
      "7    4401\n",
      "8    4063\n",
      "9    4188\n"
     ]
    },
    {
     "data": {
      "image/png": "[encoded data removed]",
      "text/plain": [
       "<matplotlib.figure.Figure at 0x7fce49aadd30>"
      ]
     },
     "metadata": {},
     "output_type": "display_data"
    }
   ],
   "source": [
    "# Allocation\n",
    "Allocation = DRtrn['label'].value_counts(sort = False).to_frame(name = 'Counts')\n",
    "print('\\nAllocation of Digits in the Train Set:\\n', Allocation)\n",
    "\n",
    "# Bar Plot of Label Counts\n",
    "plt.figure(1, figsize=(10,6))\n",
    "plt.title('Label Counts(Train Set)', fontsize=15)\n",
    "sb.set({'axes.grid' : True}, font_scale=1.5, style='darkgrid')\n",
    "sb.set(font_scale=1.5)\n",
    "sb.countplot(DRtrn['label'])\n",
    "plt.show()"
   ]
  },
  {
   "cell_type": "markdown",
   "metadata": {},
   "source": [
    "<h2>Cell Report:</h2><br>\n",
    "**1.** Allocation of Digits in the Train Set was represented.<br>\n",
    "**2.** Label Counts(Train Set) were Visually represented.<br>\n",
    "**3.** Visual Representation shows that the 10 digits have approximately similar counts. This indicates that Imbalanced Learning(Under-Sampling or Over-Sampling) is not required. "
   ]
  },
  {
   "cell_type": "markdown",
   "metadata": {},
   "source": [
    "## 2. Data Preprocessing"
   ]
  },
  {
   "cell_type": "markdown",
   "metadata": {},
   "source": [
    "### 2.1 Data Cleansing"
   ]
  },
  {
   "cell_type": "code",
   "execution_count": 4,
   "metadata": {
    "collapsed": true
   },
   "outputs": [],
   "source": [
    "# Label Separation\n",
    "DRtrnY = DRtrn['label']\n",
    "\n",
    "# Label Dropping\n",
    "DRtrnX = DRtrn.drop('label', axis=1)\n",
    "del DRtrn  # Deleting unnecessary Variable as Data is large"
   ]
  },
  {
   "cell_type": "markdown",
   "metadata": {},
   "source": [
    "<h2>Cell Report:</h2><br>\n",
    "**1.** Labels were separated from the Train Data and stored."
   ]
  },
  {
   "cell_type": "markdown",
   "metadata": {},
   "source": [
    "### 2.2 Data Normalization / Standardization"
   ]
  },
  {
   "cell_type": "code",
   "execution_count": 5,
   "metadata": {},
   "outputs": [
    {
     "name": "stdout",
     "output_type": "stream",
     "text": [
      "\n",
      "Normalized by: 255\n"
     ]
    }
   ],
   "source": [
    "# Normalization\n",
    "N = DRtrnX.values[0].max()\n",
    "DRtrnX = DRtrnX / N\n",
    "DRtstX = DRtst / N\n",
    "print('\\nNormalized by:', N)\n",
    "del DRtst  # Deleting unnecessary Variable as Data is large"
   ]
  },
  {
   "cell_type": "markdown",
   "metadata": {},
   "source": [
    "<h2>Cell Report:</h2><br>\n",
    "**1.** A Grayscale Normalization was performed to reduce the effect of Intensity Differences. Moreover, CNN converges faster on [0....1] Data than on [0....255]"
   ]
  },
  {
   "cell_type": "markdown",
   "metadata": {},
   "source": [
    "### 2.3 Feature Engineering(Reshape)"
   ]
  },
  {
   "cell_type": "code",
   "execution_count": 6,
   "metadata": {},
   "outputs": [
    {
     "name": "stdout",
     "output_type": "stream",
     "text": [
      "\n",
      "Shape of Train Data: (42000, 28, 28, 1)\n",
      "Shape of Test Data : (28000, 28, 28, 1)\n",
      "\n",
      "Sample Images(Train Set):\n",
      "-------------------------\n"
     ]
    },
    {
     "data": {
      "image/png": "[encoded data removed]",
      "text/plain": [
       "<matplotlib.figure.Figure at 0x7fceb69fc2e8>"
      ]
     },
     "metadata": {},
     "output_type": "display_data"
    }
   ],
   "source": [
    "# Saving the Flattened Data for ANN\n",
    "DRtrnRX = DRtrnX.copy()\n",
    "DRtstRX = DRtstX.copy()\n",
    "\n",
    "# Reshape in 3D(Height=28, Width=28, Channel=1)\n",
    "DRtrnRX = DRtrnRX.values.reshape(-1, 28, 28, 1)\n",
    "DRtstRX = DRtstRX.values.reshape(-1, 28, 28, 1)\n",
    "\n",
    "print('\\nShape of Train Data:', DRtrnRX.shape)\n",
    "print('Shape of Test Data :', DRtstRX.shape)\n",
    "\n",
    "# Sample Image View\n",
    "\n",
    "# Train Set\n",
    "print('\\nSample Images(Train Set):')\n",
    "print('-------------------------')\n",
    "plt.figure(2)\n",
    "with sb.axes_style('whitegrid', {'axes.grid' : False}):\n",
    "    for i in range(1,6):\n",
    "        plt.subplot(1,5,i)\n",
    "        plt.imshow(DRtrnRX[i*4010][:, :, 0], cmap='gray')\n",
    "    plt.tight_layout()\n",
    "    plt.show()"
   ]
  },
  {
   "cell_type": "markdown",
   "metadata": {},
   "source": [
    "<h2>Cell Report:</h2><br>\n",
    "**1.** All the Data were Reshaped into Numpy 3D Array (28 X 28 X 1) as Keras requires an extra Dimension at the end which corresponds to Channel. MNIST Images are Gray Scaled so it uses only one Channel.<br>\n",
    "**2.** Some Sample Images were shown."
   ]
  },
  {
   "cell_type": "markdown",
   "metadata": {},
   "source": [
    "### 2.4 One Hot Encoding(Label)"
   ]
  },
  {
   "cell_type": "code",
   "execution_count": 7,
   "metadata": {},
   "outputs": [
    {
     "name": "stderr",
     "output_type": "stream",
     "text": [
      "Using TensorFlow backend.\n"
     ]
    },
    {
     "name": "stdout",
     "output_type": "stream",
     "text": [
      "\n",
      "Shape of Label Data: (42000, 10)\n",
      "Example of a Label: [ 0.  1.  0.  0.  0.  0.  0.  0.  0.  0.]\n"
     ]
    }
   ],
   "source": [
    "from keras.utils.np_utils import to_categorical\n",
    "\n",
    "# Saving the Original Labels for ANN\n",
    "DRtrnRY = DRtrnY.copy()\n",
    "\n",
    "# One Hot Encoding of Labels\n",
    "DRtrnRY = to_categorical(DRtrnRY)\n",
    "print('\\nShape of Label Data:', DRtrnRY.shape)\n",
    "print('Example of a Label:', DRtrnRY[1000])"
   ]
  },
  {
   "cell_type": "markdown",
   "metadata": {},
   "source": [
    "<h2>Cell Report:</h2><br>\n",
    "**1.** Labels were One Hot Encoded as it is required by Keras.<br>\n",
    "**2.** Example: 5 would be [0,0,0,0,0,1,0,0,0,0]"
   ]
  },
  {
   "cell_type": "markdown",
   "metadata": {},
   "source": [
    "### 2.5 Data Augmentation"
   ]
  },
  {
   "cell_type": "code",
   "execution_count": 8,
   "metadata": {
    "collapsed": true
   },
   "outputs": [],
   "source": [
    "# Data Augmentation\n",
    "from keras.preprocessing.image import ImageDataGenerator\n",
    "\n",
    "DataGen = ImageDataGenerator(featurewise_center=False,  # Set Input Mean to 0 over the Dataset\n",
    "                             samplewise_center=False,   # Set each Sample Mean to 0\n",
    "                             featurewise_std_normalization=False,  # Divide Inputs by STD of the Dataset\n",
    "                             samplewise_std_normalization=False,   # Divide each Input by its STD\n",
    "                             zca_whitening=False,  # ZCA whitening\n",
    "                             rotation_range=10,    # Randomly rotate Images\n",
    "                             zoom_range = 0.1,     # Randomly zoom Images \n",
    "                             width_shift_range=0.1,   # Randomly shift Images horizontally (fraction of total width)\n",
    "                             height_shift_range=0.1,  # Randomly shift images vertically (fraction of total height)\n",
    "                             horizontal_flip=False,   # Randomly flip Images(Horizontal)\n",
    "                             vertical_flip=False)     # Randomly flip Images(Vertical)"
   ]
  },
  {
   "cell_type": "markdown",
   "metadata": {},
   "source": [
    "<h2>Cell Report:</h2><br>\n",
    "**1.** In order to avoid Overfitting problem, Handwritten Digit Dataset was expanded artificially. Existing Dataset can be made even larger by Data Augmentation. The idea is to alter the Training Data with small Transformations to reproduce the variations occuring when someone is writing a Digit.<br>\n",
    "**2.** Approaches that alter the Training Data in ways that change the Array Representation while keeping the Label same are known as Data Augmentation Techniques.<br>\n",
    "**3.** Data Augmentation helps making the Model more Generic and Robust.<br>\n",
    "**4.** In this Model, Some Training Images were randomly rotated by 10 Degrees.<br>\n",
    "**5.** Some Training Images were randomly Zoomed by 10%.<br>\n",
    "**6.** Some Images were randomly shifted horizontally by 10% of the width.<br>\n",
    "**7.** Some Images were randomly shifted vertically by 10% of the height.<br>\n",
    "**8.** The Augmentation was fitted to the Train Data in a later Cell."
   ]
  },
  {
   "cell_type": "markdown",
   "metadata": {
    "collapsed": true
   },
   "source": [
    "## 3. Decision of Algorithm and Model"
   ]
  },
  {
   "cell_type": "markdown",
   "metadata": {},
   "source": [
    "### 3.1 Scikit Learn(ANN)"
   ]
  },
  {
   "cell_type": "code",
   "execution_count": 9,
   "metadata": {},
   "outputs": [
    {
     "name": "stdout",
     "output_type": "stream",
     "text": [
      "\n",
      "Average Accuracy Score(5 Fold Cross Validation): 0.964642263948\n"
     ]
    }
   ],
   "source": [
    "# Learner(Vanilla/Basic Model)\n",
    "import sklearn.neural_network as sknn\n",
    "import sklearn.model_selection as mods\n",
    "import warnings\n",
    "warnings.filterwarnings('ignore')\n",
    "\n",
    "modelSK = sknn.MLPClassifier(hidden_layer_sizes=(800,500,200), activation='relu', solver='adam', alpha=0.1, max_iter=20)\n",
    "CVS = mods.cross_val_score(modelSK, DRtrnX, DRtrnY, cv=3)  # Cross Validation Scores\n",
    "modelSK = modelSK.fit(DRtrnX, DRtrnY)\n",
    "PredDR = modelSK.predict(DRtstX)\n",
    "print('\\nAverage Accuracy Score(5 Fold Cross Validation):', sum(CVS)/3)\n",
    "\n",
    "# Data Frame\n",
    "ImageId = [i for i in range(1,28001)]\n",
    "ImageId = np.asarray(ImageId)\n",
    "PredSKDR = PredDR.flatten()\n",
    "PredSKDR = pd.DataFrame({'ImageId':ImageId, 'Label':PredSKDR})\n",
    "\n",
    "# CSV File(Kaggle Format)\n",
    "PredSKDR.to_csv('PredSKDR(Vanilla).csv', index=False)"
   ]
  },
  {
   "cell_type": "markdown",
   "metadata": {
    "collapsed": true
   },
   "source": [
    "<h2>Cell Report:</h2><br>\n",
    "**1.** A Vanilla/Basic Model was represented with Neural Network. Scikit Learn's ANN was used for this Traditional Model. Hyper Parameters were tuned manually.<br>\n",
    "**2.** A 5 Fold Cross Validation was run on the Train Data and the Average Accuracy Score(R2 Score) was shown.<br>\n",
    "**3.** Kaggle Score: 0.96<br>\n",
    "**4.** For Image Classification, CNN gives much better result over ANN because of the Convolutional Filtering operation. Convolutional Neural Networks allow Networks to have fewer weights. This guides the learning towards better predictions. For instance, Images contain a lot of redundant information and that for object recognition, edges are often all we need. This insight helps to give the Neural Network a simple way to do edge detection through Convolution. This is why ConvNets are used for most Computer Vision Deep Learning tasks as it makes use of Local Patterns of the Data. CNN helps extracting Features that are very effective for accurate predictions.<br>\n",
    "**5.** For the later Models, CNN was used."
   ]
  },
  {
   "cell_type": "markdown",
   "metadata": {},
   "source": [
    "### 3.2 Keras(CNN): Number of Layers, Regularization(Dropout, Batch Normalization)"
   ]
  },
  {
   "cell_type": "code",
   "execution_count": 10,
   "metadata": {
    "collapsed": true
   },
   "outputs": [],
   "source": [
    "# Learner(CNN)\n",
    "from keras.models import Sequential\n",
    "from keras.layers import Dense\n",
    "from keras.layers import Dropout\n",
    "from keras.layers import BatchNormalization\n",
    "from keras.layers import Conv2D\n",
    "from keras.layers import MaxPool2D\n",
    "from keras.layers import Flatten\n",
    "\n",
    "model = Sequential()\n",
    "\n",
    "# Stack of Layers(Convolution)\n",
    "model.add(Conv2D(filters = 32, kernel_size = (5,5), padding = 'Same', \n",
    "                 activation = 'relu', input_shape = (28,28,1)))\n",
    "model.add(Conv2D(filters = 32, kernel_size = (5,5), padding = 'Same', \n",
    "                 activation = 'relu'))\n",
    "model.add(MaxPool2D(pool_size = (2,2)))\n",
    "model.add(Dropout(0.25))\n",
    "\n",
    "\n",
    "model.add(Conv2D(filters = 64, kernel_size = (3,3), padding = 'Same', \n",
    "                 activation = 'relu'))\n",
    "model.add(Conv2D(filters = 64, kernel_size = (3,3), padding = 'Same', \n",
    "                 activation = 'relu'))\n",
    "model.add(MaxPool2D(pool_size = (2,2), strides = (2,2)))\n",
    "model.add(Dropout(0.25))\n",
    "\n",
    "\n",
    "model.add(Flatten())\n",
    "\n",
    "# Stack of Layers(NN)\n",
    "model.add(Dense(256, activation = 'relu'))\n",
    "model.add(BatchNormalization())\n",
    "model.add(Dropout(0.25))\n",
    "model.add(Dense(10, activation = 'softmax'))"
   ]
  },
  {
   "cell_type": "markdown",
   "metadata": {},
   "source": [
    "<h2>Cell Report:</h2><br>\n",
    "**1.** Two Conv2D layers with 32 Filters were added first to the Model followed by one MaxPool2D layer and a Dropout layer. Then two more Conv2D layers with 64 Filters were added followed by one MaxPool2D layer and a Dropout layer.<br>\n",
    "**2.** Each Filter transforms a part of the Image(defined by the Kernel Size).<br>\n",
    "**3.** The CNN can isolate Features that are useful everywhere from these Transformed Images.<br>\n",
    "**4.** MaxPool2D layer is important in CNN as this layer simply acts as a Downsampling Filter. It looks at the neighboring pixels and picks the maximum value. These are used to reduce Computational Cost and to some extent also to reduce Overfitting.<br>\n",
    "**5.** Combining Convolutional and Pooling Layers, CNN are able to combine Local Features and learn more Global Features of the Image.<br>\n",
    "**6.** Dropout is a Regularization Method where a proportion of Nodes in the layer are randomly ignored. It forces the Network to learn Features in a distributed way. This technique also improves Generalization and reduces the Overfitting.<br>\n",
    "**7.** The Flatten layer is used to convert the Final Feature maps into a single 1D Vector. This flattening step produces fully connected layers. It combines all the Local Features of the previous Convolutional Layers.<br>\n",
    "**8.** Finally two Dense Layers with Batch Normalization and Dropout were used as ANN Classifier."
   ]
  },
  {
   "cell_type": "markdown",
   "metadata": {
    "collapsed": true
   },
   "source": [
    "## 4. Decision of Hyper Parameters"
   ]
  },
  {
   "cell_type": "markdown",
   "metadata": {},
   "source": [
    "### 4.1 Epochs"
   ]
  },
  {
   "cell_type": "code",
   "execution_count": 11,
   "metadata": {
    "collapsed": true
   },
   "outputs": [],
   "source": [
    "# Epochs\n",
    "epochs = 50\n",
    "batch_size = 86"
   ]
  },
  {
   "cell_type": "markdown",
   "metadata": {},
   "source": [
    "<h2>Cell Report:</h2><br>\n",
    "**1.** Number of epochs was tuned manually. Considering the Computational Power available, Number of epochs was kept at a moderate level. Powerful Computers with Nvidia GPU can run higher Number of epochs within a short time.<br>\n",
    "**2.** Batch Size was also tuned."
   ]
  },
  {
   "cell_type": "markdown",
   "metadata": {},
   "source": [
    "### 4.2 Activation Function(Grid Search)"
   ]
  },
  {
   "cell_type": "code",
   "execution_count": 12,
   "metadata": {},
   "outputs": [
    {
     "name": "stdout",
     "output_type": "stream",
     "text": [
      "\n",
      "Grid Summary:\n",
      " GridSearchCV(cv=None, error_score='raise',\n",
      "       estimator=MLPClassifier(activation='relu', alpha=0.1, batch_size='auto', beta_1=0.9,\n",
      "       beta_2=0.999, early_stopping=False, epsilon=1e-08,\n",
      "       hidden_layer_sizes=(800, 500, 200), learning_rate='constant',\n",
      "       learning_rate_init=0.001, max_iter=4, momentum=0.9,\n",
      "       nesterovs_momentum=True, power_t=0.5, random_state=None,\n",
      "       shuffle=True, solver='adam', tol=0.0001, validation_fraction=0.1,\n",
      "       verbose=False, warm_start=False),\n",
      "       fit_params={}, iid=True, n_jobs=1,\n",
      "       param_grid={'activation': ['identity', 'logistic', 'tanh', 'relu']},\n",
      "       pre_dispatch='2*n_jobs', refit=True, return_train_score=True,\n",
      "       scoring=None, verbose=0)\n",
      "\n",
      "Best Score: 0.963404761905\n",
      "Best Activation Function: relu\n"
     ]
    }
   ],
   "source": [
    "# Grid Search for the best Activation Function\n",
    "from sklearn.model_selection import GridSearchCV\n",
    "\n",
    "# Available Activation Functions\n",
    "Activations = ['identity', 'logistic', 'tanh', 'relu']\n",
    "\n",
    "# Model to Grid Search\n",
    "modelAct = sknn.MLPClassifier(hidden_layer_sizes=(800,500,200), alpha=0.1, max_iter=4)\n",
    "grid = GridSearchCV(estimator=modelAct, param_grid=dict(activation = Activations))\n",
    "grid.fit(DRtrnX, DRtrnY)\n",
    "print('\\nGrid Summary:\\n', grid)\n",
    "\n",
    "# Summary(Tuned Hyperparameter)\n",
    "print('\\nBest Score:', grid.best_score_)\n",
    "print('Best Activation Function:', grid.best_estimator_.activation)"
   ]
  },
  {
   "cell_type": "markdown",
   "metadata": {},
   "source": [
    "<h2>Cell Report:</h2><br>\n",
    "**1.** The Grid Search for the best Activation Function was a guideline for the Final Model.<br>\n",
    "**2.** As the Grid Search was run, best Activation Function was found to be 'relu' which ought to be used in the Dense Layer.<br>\n",
    "**3.** But in the Final Dense Layer, 'softmax' is preferable as it is a Classification Problem.<br>\n",
    "**4.** For the Convolution Layers, Activation Functions were manually tuned. "
   ]
  },
  {
   "cell_type": "markdown",
   "metadata": {},
   "source": [
    "### 4.3 Optimizer"
   ]
  },
  {
   "cell_type": "code",
   "execution_count": 13,
   "metadata": {
    "collapsed": true
   },
   "outputs": [],
   "source": [
    "# Optimizer\n",
    "from keras.optimizers import RMSprop\n",
    "optimizer = RMSprop(lr=0.001, rho=0.9, epsilon=1e-08, decay=0.0)"
   ]
  },
  {
   "cell_type": "markdown",
   "metadata": {},
   "source": [
    "<h2>Cell Report:</h2><br>\n",
    "**1.** 'RMSprop' was used as Optimizer as it is a very effective Optimizer. The 'RMSprop' updates and adjusts the Adagrad method in a very simple way in an attempt to reduce its aggressive, monotonically decreasing Learning Rate. 'sgd' could have been used but it is slower than 'RMSprop'.<br>"
   ]
  },
  {
   "cell_type": "markdown",
   "metadata": {},
   "source": [
    "### 4.4 Learning Rate"
   ]
  },
  {
   "cell_type": "code",
   "execution_count": 14,
   "metadata": {
    "collapsed": true
   },
   "outputs": [],
   "source": [
    "# Learning Rate Annealer\n",
    "from keras.callbacks import ReduceLROnPlateau\n",
    "LRA = ReduceLROnPlateau(monitor = 'val_acc', \n",
    "                        patience = 5, \n",
    "                        verbose = 1, \n",
    "                        factor = 0.5, \n",
    "                        min_lr = 0.00001)"
   ]
  },
  {
   "cell_type": "markdown",
   "metadata": {},
   "source": [
    "<h2>Cell Report:</h2><br>\n",
    "**1.** In order to make the Optimizer converge faster and closest to the Global Minimum of the Loss Function, an Annealing Method of the Learning Rate(LR) was used because it's better to have a decreasing Learning Rate during the Training to reach efficiently the Global Minimum of the Loss Function.<br>\n",
    "**2.** With the ReduceLROnPlateau function from Keras.callbacks, it was chosen to reduce the LR by half if the Accuracy is not improved after 5 epochs."
   ]
  },
  {
   "cell_type": "markdown",
   "metadata": {},
   "source": [
    "### 4.5 Number of Neurons"
   ]
  },
  {
   "cell_type": "markdown",
   "metadata": {},
   "source": [
    "**Note:** After adding the Flattening Layer, 2 Dense Layers with Neurons (256, 10) were added. In the final Layer, 10 Neurons ought to be added as there are 10 Classes(Digits from 0 to 9)."
   ]
  },
  {
   "cell_type": "markdown",
   "metadata": {},
   "source": [
    "***"
   ]
  },
  {
   "cell_type": "markdown",
   "metadata": {},
   "source": [
    "<h2>Summary of Hyper Parameter Tuning:</h2><br>\n",
    "1. Epochs: 50<br>\n",
    "2. Activation Function: 'relu' for the First Dense Layer and Convolution Layers, 'softmax' for the Final Dense Layer.<br>\n",
    "3. Optimizer: 'RMSprop'<br>\n",
    "4. Learning Rate(alpha): Annealing Method<br>\n",
    "5. Number of Neurons: (256, 10)<br>"
   ]
  },
  {
   "cell_type": "markdown",
   "metadata": {},
   "source": [
    "**Note:** More epochs could have improved the Final Score but due to limitations of Available Computational Power, it was not affordable. "
   ]
  },
  {
   "cell_type": "markdown",
   "metadata": {},
   "source": [
    "***"
   ]
  },
  {
   "cell_type": "markdown",
   "metadata": {},
   "source": [
    "## 5. Best Designed Model(Tuned Hyper Parameters)"
   ]
  },
  {
   "cell_type": "code",
   "execution_count": 15,
   "metadata": {
    "scrolled": false
   },
   "outputs": [
    {
     "name": "stdout",
     "output_type": "stream",
     "text": [
      "Epoch 1/50\n",
      "11s - loss: 0.2387 - acc: 0.9246 - val_loss: 0.1358 - val_acc: 0.9676\n",
      "Epoch 2/50\n",
      "10s - loss: 0.0957 - acc: 0.9701 - val_loss: 0.0641 - val_acc: 0.9836\n",
      "Epoch 3/50\n",
      "10s - loss: 0.0745 - acc: 0.9765 - val_loss: 0.0477 - val_acc: 0.9838\n",
      "Epoch 4/50\n",
      "10s - loss: 0.0660 - acc: 0.9794 - val_loss: 0.0267 - val_acc: 0.9929\n",
      "Epoch 5/50\n",
      "10s - loss: 0.0593 - acc: 0.9822 - val_loss: 0.0498 - val_acc: 0.9864\n",
      "Epoch 6/50\n",
      "10s - loss: 0.0513 - acc: 0.9844 - val_loss: 0.0279 - val_acc: 0.9914\n",
      "Epoch 7/50\n",
      "10s - loss: 0.0496 - acc: 0.9848 - val_loss: 0.0229 - val_acc: 0.9940\n",
      "Epoch 8/50\n",
      "10s - loss: 0.0471 - acc: 0.9860 - val_loss: 0.0208 - val_acc: 0.9940\n",
      "Epoch 9/50\n",
      "10s - loss: 0.0467 - acc: 0.9864 - val_loss: 0.0229 - val_acc: 0.9943\n",
      "Epoch 10/50\n",
      "10s - loss: 0.0450 - acc: 0.9866 - val_loss: 0.0219 - val_acc: 0.9948\n",
      "Epoch 11/50\n",
      "10s - loss: 0.0403 - acc: 0.9877 - val_loss: 0.0156 - val_acc: 0.9952\n",
      "Epoch 12/50\n",
      "10s - loss: 0.0401 - acc: 0.9880 - val_loss: 0.0208 - val_acc: 0.9936\n",
      "Epoch 13/50\n",
      "10s - loss: 0.0413 - acc: 0.9875 - val_loss: 0.0199 - val_acc: 0.9950\n",
      "Epoch 14/50\n",
      "10s - loss: 0.0388 - acc: 0.9881 - val_loss: 0.0138 - val_acc: 0.9962\n",
      "Epoch 15/50\n",
      "10s - loss: 0.0395 - acc: 0.9880 - val_loss: 0.0143 - val_acc: 0.9962\n",
      "Epoch 16/50\n",
      "10s - loss: 0.0380 - acc: 0.9883 - val_loss: 0.0109 - val_acc: 0.9964\n",
      "Epoch 17/50\n",
      "10s - loss: 0.0354 - acc: 0.9893 - val_loss: 0.0132 - val_acc: 0.9964\n",
      "Epoch 18/50\n",
      "10s - loss: 0.0347 - acc: 0.9894 - val_loss: 0.0153 - val_acc: 0.9967\n",
      "Epoch 19/50\n",
      "10s - loss: 0.0331 - acc: 0.9894 - val_loss: 0.0147 - val_acc: 0.9969\n",
      "Epoch 20/50\n",
      "10s - loss: 0.0351 - acc: 0.9895 - val_loss: 0.0105 - val_acc: 0.9976\n",
      "Epoch 21/50\n",
      "10s - loss: 0.0304 - acc: 0.9905 - val_loss: 0.0122 - val_acc: 0.9969\n",
      "Epoch 22/50\n",
      "10s - loss: 0.0327 - acc: 0.9898 - val_loss: 0.0123 - val_acc: 0.9967\n",
      "Epoch 23/50\n",
      "10s - loss: 0.0324 - acc: 0.9905 - val_loss: 0.0103 - val_acc: 0.9974\n",
      "Epoch 24/50\n",
      "10s - loss: 0.0326 - acc: 0.9896 - val_loss: 0.0160 - val_acc: 0.9957\n",
      "Epoch 25/50\n",
      "10s - loss: 0.0319 - acc: 0.9909 - val_loss: 0.0138 - val_acc: 0.9957\n",
      "Epoch 26/50\n",
      "\n",
      "Epoch 00025: reducing learning rate to 0.0005000000237487257.\n",
      "10s - loss: 0.0290 - acc: 0.9912 - val_loss: 0.0088 - val_acc: 0.9974\n",
      "Epoch 27/50\n",
      "10s - loss: 0.0248 - acc: 0.9918 - val_loss: 0.0073 - val_acc: 0.9979\n",
      "Epoch 28/50\n",
      "10s - loss: 0.0226 - acc: 0.9931 - val_loss: 0.0068 - val_acc: 0.9983\n",
      "Epoch 29/50\n",
      "10s - loss: 0.0242 - acc: 0.9927 - val_loss: 0.0060 - val_acc: 0.9981\n",
      "Epoch 30/50\n",
      "10s - loss: 0.0254 - acc: 0.9925 - val_loss: 0.0058 - val_acc: 0.9986\n",
      "Epoch 31/50\n",
      "10s - loss: 0.0233 - acc: 0.9924 - val_loss: 0.0063 - val_acc: 0.9983\n",
      "Epoch 32/50\n",
      "10s - loss: 0.0233 - acc: 0.9931 - val_loss: 0.0083 - val_acc: 0.9979\n",
      "Epoch 33/50\n",
      "10s - loss: 0.0221 - acc: 0.9931 - val_loss: 0.0057 - val_acc: 0.9988\n",
      "Epoch 34/50\n",
      "10s - loss: 0.0240 - acc: 0.9926 - val_loss: 0.0061 - val_acc: 0.9986\n",
      "Epoch 35/50\n",
      "10s - loss: 0.0228 - acc: 0.9934 - val_loss: 0.0061 - val_acc: 0.9981\n",
      "Epoch 36/50\n",
      "10s - loss: 0.0230 - acc: 0.9930 - val_loss: 0.0060 - val_acc: 0.9988\n",
      "Epoch 37/50\n",
      "11s - loss: 0.0235 - acc: 0.9927 - val_loss: 0.0067 - val_acc: 0.9986\n",
      "Epoch 38/50\n",
      "10s - loss: 0.0238 - acc: 0.9927 - val_loss: 0.0060 - val_acc: 0.9990\n",
      "Epoch 39/50\n",
      "10s - loss: 0.0220 - acc: 0.9933 - val_loss: 0.0062 - val_acc: 0.9988\n",
      "Epoch 40/50\n",
      "10s - loss: 0.0199 - acc: 0.9939 - val_loss: 0.0062 - val_acc: 0.9990\n",
      "Epoch 41/50\n",
      "10s - loss: 0.0211 - acc: 0.9929 - val_loss: 0.0059 - val_acc: 0.9988\n",
      "Epoch 42/50\n",
      "10s - loss: 0.0211 - acc: 0.9933 - val_loss: 0.0050 - val_acc: 0.9990\n",
      "Epoch 43/50\n",
      "10s - loss: 0.0198 - acc: 0.9934 - val_loss: 0.0055 - val_acc: 0.9986\n",
      "Epoch 44/50\n",
      "\n",
      "Epoch 00043: reducing learning rate to 0.0002500000118743628.\n",
      "10s - loss: 0.0201 - acc: 0.9938 - val_loss: 0.0046 - val_acc: 0.9990\n",
      "Epoch 45/50\n",
      "10s - loss: 0.0197 - acc: 0.9940 - val_loss: 0.0046 - val_acc: 0.9986\n",
      "Epoch 46/50\n",
      "10s - loss: 0.0201 - acc: 0.9941 - val_loss: 0.0048 - val_acc: 0.9993\n",
      "Epoch 47/50\n",
      "10s - loss: 0.0187 - acc: 0.9946 - val_loss: 0.0047 - val_acc: 0.9988\n",
      "Epoch 48/50\n",
      "10s - loss: 0.0192 - acc: 0.9946 - val_loss: 0.0059 - val_acc: 0.9981\n",
      "Epoch 49/50\n",
      "10s - loss: 0.0187 - acc: 0.9947 - val_loss: 0.0050 - val_acc: 0.9993\n",
      "Epoch 50/50\n",
      "10s - loss: 0.0191 - acc: 0.9941 - val_loss: 0.0048 - val_acc: 0.9993\n"
     ]
    },
    {
     "data": {
      "image/png": "[encoded data removed]",
      "text/plain": [
       "<matplotlib.figure.Figure at 0x7fce49a82940>"
      ]
     },
     "metadata": {},
     "output_type": "display_data"
    },
    {
     "data": {
      "image/png": "[encoded data removed]",
      "text/plain": [
       "<matplotlib.figure.Figure at 0x7fceb6ab2fd0>"
      ]
     },
     "metadata": {},
     "output_type": "display_data"
    }
   ],
   "source": [
    "# Model(Final):\n",
    "from sklearn.metrics import confusion_matrix\n",
    "import itertools\n",
    "\n",
    "# Compile\n",
    "model.compile(optimizer=optimizer, loss='categorical_crossentropy', metrics=['accuracy'])\n",
    "\n",
    "# Augmented Data Fit\n",
    "DataGen.fit(DRtrnRX)\n",
    "\n",
    "# Validation Split\n",
    "X_train, X_val, Y_train, Y_val = mods.train_test_split(DRtrnRX, DRtrnRY, test_size = 0.1, random_state=24, stratify=DRtrnRY)\n",
    "\n",
    "# Training of Model\n",
    "MFinal = model.fit_generator(DataGen.flow(DRtrnRX, DRtrnRY, batch_size = batch_size),\n",
    "                             epochs = epochs, \n",
    "                             validation_data = (X_val,Y_val),\n",
    "                             verbose = 2, \n",
    "                             steps_per_epoch = DRtrnRX.shape[0] // batch_size,\n",
    "                             callbacks = [LRA])\n",
    "\n",
    "# Training and Validation Curves\n",
    "plt.figure(3, figsize=(12,8))\n",
    "\n",
    "plt.subplot(2,1,1)\n",
    "plt.title('Loss')\n",
    "plt.plot(MFinal.history['loss'], color='b', label='Training Loss')\n",
    "plt.plot(MFinal.history['val_loss'], color='r', label='Validation Loss')\n",
    "plt.legend(loc='best', shadow=True)\n",
    "\n",
    "plt.subplot(2,1,2)\n",
    "plt.title('Accuracy')\n",
    "plt.plot(MFinal.history['acc'], color='b', label='Training Accuracy')\n",
    "plt.plot(MFinal.history['val_acc'], color='r', label='Validation Accuracy')\n",
    "plt.legend(loc='best', shadow=True)\n",
    "\n",
    "plt.tight_layout()\n",
    "plt.show()\n",
    "\n",
    "\n",
    "# Confusion Matrix\n",
    "def plot_confusion_matrix(cm, classes,\n",
    "                          normalize=False,\n",
    "                          title='Confusion Matrix',\n",
    "                          cmap=plt.cm.Blues):\n",
    "    \"\"\"\n",
    "    This function prints and plots the Confusion Matrix.\n",
    "    \"\"\"\n",
    "    plt.imshow(cm, interpolation='nearest', cmap=cmap)\n",
    "    plt.title(title)\n",
    "    plt.colorbar()\n",
    "    tick_marks = np.arange(len(classes))\n",
    "    plt.xticks(tick_marks, classes)\n",
    "    plt.yticks(tick_marks, classes)\n",
    "\n",
    "    thresh = cm.max() / 2.\n",
    "    for i, j in itertools.product(range(cm.shape[0]), range(cm.shape[1])):\n",
    "        plt.text(j, i, cm[i, j],\n",
    "                 horizontalalignment='center',\n",
    "                 color='white' if cm[i, j] > thresh else 'black')\n",
    "\n",
    "    plt.tight_layout()\n",
    "    plt.ylabel('True Label')\n",
    "    plt.xlabel('Predicted Label')\n",
    "    plt.show()\n",
    "\n",
    "# Predict the values from the Validation Dataset\n",
    "Y_pred = model.predict(X_val)\n",
    "\n",
    "# Convert predictions classes to One Hot Vectors \n",
    "Y_pred_classes = np.argmax(Y_pred, axis = 1) \n",
    "\n",
    "# Convert validation observations to One Hot Vectors\n",
    "Y_true = np.argmax(Y_val, axis = 1) \n",
    "\n",
    "# Compute the Confusion Matrix\n",
    "CFMtx = confusion_matrix(Y_true, Y_pred_classes)\n",
    "\n",
    "# Confusion Matrix Plot\n",
    "plt.figure(4, figsize=(6,6))\n",
    "plot_confusion_matrix(CFMtx, classes = range(10))\n",
    "\n",
    "# Predictions\n",
    "PredDR = model.predict(DRtstRX)\n",
    "PredDR = np.argmax(PredDR, axis = 1)\n",
    "\n",
    "# Data Frame\n",
    "ImageId = [i for i in range(1,28001)]\n",
    "ImageId = np.asarray(ImageId)\n",
    "PredDR = PredDR.flatten()\n",
    "PredDR = pd.DataFrame({'ImageId':ImageId, 'Label':PredDR})\n",
    "\n",
    "# CSV File(Kaggle Format)\n",
    "PredDR.to_csv('PredDR(MFinal).csv', index=False)"
   ]
  },
  {
   "cell_type": "markdown",
   "metadata": {},
   "source": [
    "<h2>Cell Report:</h2><br>\n",
    "**1.** Best Designed Model was represented.<br>\n",
    "**2.** Tuned Hyper Parameters had been used in Keras with TensorFlow backend.<br>\n",
    "**3.** Train and Validation curves show that the Model was well trained with negligible Overfitting.<br>\n",
    "**4.** Confusion Matrix(Validation Set) was represented. Confusion Matrix shows that the probable errors occur due to different Handwriting. For example 3 is sometime indistinguishable from 8. Other errors are also visible in the Heatmap.<br>\n",
    "**5.** Kaggle Score: 0.99671"
   ]
  },
  {
   "cell_type": "markdown",
   "metadata": {},
   "source": [
    "## 6. Results\n",
    "**1.** Final Kaggle Score(Best Designed Model): 0.99671(Top 6.1% at the time of Submission).<br>\n",
    "**2.** The Submission File(Predicted Outputs) has been attached.<br> \n",
    "**3.** A Sample Output has been shown below."
   ]
  },
  {
   "cell_type": "markdown",
   "metadata": {},
   "source": [
    "### 6.1 Sample Output"
   ]
  },
  {
   "cell_type": "code",
   "execution_count": 16,
   "metadata": {},
   "outputs": [
    {
     "name": "stdout",
     "output_type": "stream",
     "text": [
      "\n",
      "Sample Output(20 Predictions):\n",
      "\n",
      "    ImageId  Label\n",
      "0         1      2\n",
      "1         2      0\n",
      "2         3      9\n",
      "3         4      0\n",
      "4         5      3\n",
      "5         6      7\n",
      "6         7      0\n",
      "7         8      3\n",
      "8         9      0\n",
      "9        10      3\n",
      "10       11      5\n",
      "11       12      7\n",
      "12       13      4\n",
      "13       14      0\n",
      "14       15      4\n",
      "15       16      3\n",
      "16       17      3\n",
      "17       18      1\n",
      "18       19      9\n",
      "19       20      0\n"
     ]
    }
   ],
   "source": [
    "# Sample Output\n",
    "PredDR = pd.read_csv('PredDR(MFinal).csv')\n",
    "print('\\nSample Output(20 Predictions):\\n')\n",
    "print(PredDR.head(20))"
   ]
  },
  {
   "cell_type": "markdown",
   "metadata": {},
   "source": [
    "### 6.2 Kaggle Score(Screen Shot)"
   ]
  },
  {
   "cell_type": "code",
   "execution_count": 2,
   "metadata": {},
   "outputs": [
    {
     "data": {
      "image/png": "[encoded data removed]",
      "text/plain": [
       "<IPython.core.display.Image object>"
      ]
     },
     "execution_count": 2,
     "metadata": {},
     "output_type": "execute_result"
    }
   ],
   "source": [
    "# Kaggle Score(Screen Shot)\n",
    "from IPython.display import Image\n",
    "Image('Kaggle.PNG')"
   ]
  },
  {
   "cell_type": "markdown",
   "metadata": {},
   "source": [
    "**Kaggle Position:** 118 (At the time of Submission). Top 6.1%"
   ]
  },
  {
   "cell_type": "markdown",
   "metadata": {},
   "source": [
    "## 7. Discussion\n",
    "**1.** Some bad Handwriting caused erroneous Training of the Model. This resulted in some errors although they are negligible.<br>\n",
    "**2.** Data Augmentation was attempted to overcome this problem and to make a Generic and Robust Model.<br>\n",
    "**3.** Learning Rate Annealing impressively helped improving the Final Score."
   ]
  },
  {
   "cell_type": "markdown",
   "metadata": {},
   "source": [
    "## 8. Conclusions"
   ]
  },
  {
   "cell_type": "markdown",
   "metadata": {},
   "source": [
    "**Training Set Size:** The quality of a Learned System is primarily dependent on the size and quality of the Train Set.<br>\n",
    "**Convolution Neural Network:** Standard Neural Networks are State of the Art Classifiers that perform about as well as other Classification Techniques that operate on Vectors without knowledge of the Input Topology. However, CNN exploit the knowledge that the Inputs are not independent elements but arise from a Spatial Structure."
   ]
  }
 ],
 "metadata": {
  "kernelspec": {
   "display_name": "Python 3",
   "language": "python",
   "name": "python3"
  },
  "language_info": {
   "codemirror_mode": {
    "name": "ipython",
    "version": 3
   },
   "file_extension": ".py",
   "mimetype": "text/x-python",
   "name": "python",
   "nbconvert_exporter": "python",
   "pygments_lexer": "ipython3",
   "version": "3.6.1"
  }
 },
 "nbformat": 4,
 "nbformat_minor": 2
}
